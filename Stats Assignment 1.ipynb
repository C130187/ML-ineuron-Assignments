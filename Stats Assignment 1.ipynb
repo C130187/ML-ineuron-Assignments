{
 "cells": [
  {
   "cell_type": "markdown",
   "metadata": {},
   "source": [
    "Calculate the mean, median, mode and standard deviation for the problem\n",
    "statements 1& 2.\n",
    "\n",
    "# Problem Statement 1:\n",
    "\n",
    "The marks awarded for an assignment set for a Year 8 class of 20 students were as\n",
    "follows:\n",
    "6 7 5 7 7 8 7 6 9 7 4 10 6 8 8 9 5 6 4 8"
   ]
  },
  {
   "cell_type": "code",
   "execution_count": 1,
   "metadata": {},
   "outputs": [],
   "source": [
    "from statistics import mean, median, mode, stdev"
   ]
  },
  {
   "cell_type": "code",
   "execution_count": 2,
   "metadata": {},
   "outputs": [
    {
     "data": {
      "text/plain": [
       "[6, 7, 5, 7, 7, 8, 7, 6, 9, 7, 4, 10, 6, 8, 8, 9, 5, 6, 4, 8]"
      ]
     },
     "execution_count": 2,
     "metadata": {},
     "output_type": "execute_result"
    }
   ],
   "source": [
    "marks = list(map(int, \"6 7 5 7 7 8 7 6 9 7 4 10 6 8 8 9 5 6 4 8\".split()))\n",
    "marks"
   ]
  },
  {
   "cell_type": "code",
   "execution_count": 3,
   "metadata": {},
   "outputs": [
    {
     "data": {
      "text/plain": [
       "6.85"
      ]
     },
     "execution_count": 3,
     "metadata": {},
     "output_type": "execute_result"
    }
   ],
   "source": [
    "mean(marks)"
   ]
  },
  {
   "cell_type": "code",
   "execution_count": 4,
   "metadata": {},
   "outputs": [
    {
     "data": {
      "text/plain": [
       "7.0"
      ]
     },
     "execution_count": 4,
     "metadata": {},
     "output_type": "execute_result"
    }
   ],
   "source": [
    "median(marks)"
   ]
  },
  {
   "cell_type": "code",
   "execution_count": 5,
   "metadata": {},
   "outputs": [
    {
     "data": {
      "text/plain": [
       "7"
      ]
     },
     "execution_count": 5,
     "metadata": {},
     "output_type": "execute_result"
    }
   ],
   "source": [
    "mode(marks)"
   ]
  },
  {
   "cell_type": "code",
   "execution_count": 6,
   "metadata": {},
   "outputs": [
    {
     "data": {
      "text/plain": [
       "1.6311119875071343"
      ]
     },
     "execution_count": 6,
     "metadata": {},
     "output_type": "execute_result"
    }
   ],
   "source": [
    "stdev(marks)"
   ]
  },
  {
   "cell_type": "markdown",
   "metadata": {},
   "source": [
    "# Problem Statement 2:\n",
    "\n",
    "The number of calls from motorists per day for roadside service was recorded for a\n",
    "particular month:\n",
    "28, 122, 217, 130, 120, 86, 80, 90, 140, 120, 70, 40, 145, 113, 90, 68, 174, 194, 170,\n",
    "100, 75, 104, 97, 75,\n",
    "123, 100, 75, 104, 97, 75, 123, 100, 89, 120, 109\n",
    "\n",
    "Set up a frequency table for this set of data values.\n"
   ]
  },
  {
   "cell_type": "code",
   "execution_count": 7,
   "metadata": {},
   "outputs": [
    {
     "name": "stdout",
     "output_type": "stream",
     "text": [
      "From 0 to 39 : 1\n",
      "From 40 to 79 : 7\n",
      "From 80 to 119 : 14\n",
      "From 120 to 159 : 9\n",
      "From 160 to 199 : 3\n",
      "From 200 to 239 : 1\n"
     ]
    }
   ],
   "source": [
    "import math\n",
    "def bounds(list_, bucket_size):\n",
    "    lowest = min(list_)\n",
    "    highest = max(list_)\n",
    "    #print(lowest)\n",
    "    #print(highest)\n",
    "    numBuckets = math.ceil((highest) / bucket_size)\n",
    "    #print(numBuckets)\n",
    "    lower_bound = -bucket_size\n",
    "    upper_bound = 0\n",
    "    for _ in range(numBuckets):\n",
    "        lower_bound, upper_bound = lower_bound + bucket_size, lower_bound + bucket_size + bucket_size - 1\n",
    "        yield lower_bound, upper_bound\n",
    "    \n",
    "def histogram(list_, num_buckets):\n",
    "    for lower_bound, upper_bound in bounds(list_, num_buckets):\n",
    "        data = sum(lower_bound <= i < upper_bound for i in list_)\n",
    "        print(\"From\", lower_bound, \"to\", upper_bound, \":\", data)\n",
    "        \n",
    "list_ = [28, 122, 217, 130, 120, 86, 80, 90, 140, 120, 70, 40, 145, 113, 90, 68, 174, 194, 170, 100, 75, 104, 97, 75, 123, 100, 75, 104, 97, 75, 123, 100, 89, 120, 109]\n",
    "histogram(list_,40)"
   ]
  },
  {
   "cell_type": "markdown",
   "metadata": {},
   "source": [
    "# Problem Statement 3:\n",
    "    \n",
    "The number of times I go to the gym in weekdays, are given below along with its\n",
    "associated probability:\n",
    "x = 0, 1, 2, 3, 4, 5\n",
    "f(x) = 0.09, 0.15, 0.40, 0.25, 0.10, 0.01\n",
    "\n",
    "Calculate the mean no. of workouts in a week. Also evaluate the variance involved in\n",
    "it."
   ]
  },
  {
   "cell_type": "code",
   "execution_count": 8,
   "metadata": {},
   "outputs": [
    {
     "name": "stdout",
     "output_type": "stream",
     "text": [
      "2.15\n"
     ]
    }
   ],
   "source": [
    "import numpy as np \n",
    "freq = np.array([0,1,2,3,4,5])\n",
    "prob = np.array([0.09, 0.15, 0.40, 0.25, 0.10, 0.01])\n",
    "\n",
    "mean = np.dot(freq,prob)\n",
    "print(mean)"
   ]
  },
  {
   "cell_type": "code",
   "execution_count": 9,
   "metadata": {},
   "outputs": [
    {
     "data": {
      "text/plain": [
       "0.10284722222222224"
      ]
     },
     "execution_count": 9,
     "metadata": {},
     "output_type": "execute_result"
    }
   ],
   "source": [
    "np.var(freq*prob)"
   ]
  },
  {
   "cell_type": "markdown",
   "metadata": {},
   "source": [
    "# Problem Statement 5:\n",
    "\n",
    "A company manufactures LED bulbs with a faulty rate of 30%. If I randomly select 6\n",
    "chosen LEDs, what is the probability of having 2 faulty LEDs in my sample?\n",
    "Calculate the average value of this process. Also evaluate the standard deviation\n",
    "associated with it."
   ]
  },
  {
   "cell_type": "code",
   "execution_count": 10,
   "metadata": {},
   "outputs": [
    {
     "name": "stdout",
     "output_type": "stream",
     "text": [
      "Probability of having 2 faulty LED among 6:\n",
      "0.32413499999999995\n",
      "Standard deviation:\n",
      "1.1224972160321822\n",
      "The Average of the probability of 2 faulty LEDs over 10000 trials: 0.3201\n"
     ]
    }
   ],
   "source": [
    "# Binomial distribution\n",
    "from scipy import stats\n",
    "import numpy as np \n",
    "# Success here mean having a fault LED bulb\n",
    "p = 0.3\n",
    "n= 6 \n",
    "X = stats.binom(n, p) # Declare X to be a binomial random variable\n",
    "# P(x=2)\n",
    "print(\"Probability of having 2 faulty LED among 6:\") \n",
    "print(X.pmf(2))\n",
    "print(\"Standard deviation:\")\n",
    "print(X.std())  \n",
    "\n",
    "# Probability of getting 6 heads\n",
    "runs = 10000\n",
    "prob_2 = sum([1 for i in np.random.binomial(n, p, size=runs) if i==2])/runs\n",
    "print('The Average of the probability of 2 faulty LEDs over 10000 trials: ' + str(prob_2))"
   ]
  },
  {
   "cell_type": "markdown",
   "metadata": {},
   "source": [
    "# Problem Statement 6:\n",
    "\n",
    "Gaurav and Barakha are both preparing for entrance exams. Gaurav attempts to\n",
    "solve 8 questions per day with a correction rate of 75%, while Barakha averages\n",
    "around 12 questions per day with a correction rate of 45%. What is the probability\n",
    "that each of them will solve 5 questions correctly? What happens in cases of 4 and 6\n",
    "correct solutions? What do you infer from it? What are the two main governing\n",
    "factors affecting their ability to solve questions correctly? Give a pictorial\n",
    "representation of the same to validate your answer."
   ]
  },
  {
   "cell_type": "code",
   "execution_count": 39,
   "metadata": {},
   "outputs": [
    {
     "name": "stdout",
     "output_type": "stream",
     "text": [
      "Probability of Gaurav solving 5 questions correctly:\n",
      "0.20764160156250022\n",
      "Probability of Barakha solving 5 questions correctly:\n",
      "0.22249823843265792\n",
      "Probability of Gaurav solving 4 questions correctly:\n",
      "0.08651733398437506\n",
      "Probability of Barakha solving 4 questions correctly:\n",
      "0.16996393213605795\n",
      "Probability of Gaurav solving 6 questions correctly:\n",
      "0.31146240234375017\n",
      "Probability of Barakha solving 6 questions correctly:\n",
      "0.21238468214026424\n"
     ]
    },
    {
     "data": {
      "text/plain": [
       "<matplotlib.legend.Legend at 0x1a19db3f90>"
      ]
     },
     "execution_count": 39,
     "metadata": {},
     "output_type": "execute_result"
    },
    {
     "data": {
      "image/png": "[encoded data removed]",
      "text/plain": [
       "<Figure size 1008x504 with 1 Axes>"
      ]
     },
     "metadata": {
      "needs_background": "light"
     },
     "output_type": "display_data"
    }
   ],
   "source": [
    "# Binomial distribution\n",
    "from scipy import stats\n",
    "import seaborn as sns\n",
    "import numpy as np \n",
    "import matplotlib.pyplot as plt\n",
    "import numpy as np\n",
    "# Success here getting an answer right\n",
    "# Gaurav\n",
    "p1 = 0.75\n",
    "n1= 8 \n",
    "X1 = stats.binom(n1, p1) # Declare X1 to be a binomial random variable\n",
    "# P(x=5)\n",
    "print(\"Probability of Gaurav solving 5 questions correctly:\") \n",
    "print(X1.pmf(5))\n",
    " \n",
    "# Barakha\n",
    "p2 = 0.45\n",
    "n2 = 12 \n",
    "X2 = stats.binom(n2, p2) # Declare X2 to be a binomial random variable\n",
    "# P(x=5)\n",
    "print(\"Probability of Barakha solving 5 questions correctly:\") \n",
    "print(X2.pmf(5))    \n",
    "\n",
    "\n",
    "print(\"Probability of Gaurav solving 4 questions correctly:\") \n",
    "print(X1.pmf(4))\n",
    " \n",
    "print(\"Probability of Barakha solving 4 questions correctly:\") \n",
    "print(X2.pmf(4))    \n",
    "\n",
    "print(\"Probability of Gaurav solving 6 questions correctly:\") \n",
    "print(X1.pmf(6))\n",
    " \n",
    "print(\"Probability of Barakha solving 6 questions correctly:\") \n",
    "print(X2.pmf(6))   \n",
    "\n",
    "# probability of Barakha solving 5 questions right is higher for upto 5 questions\n",
    "# after that, 6-8 questions, Gaurav has a higher probability of getting them right, then again towards the\n",
    "# higher number of questions after 8, Barakha has a higher probability\n",
    "# this mean the number of questions per day along with correction rate are the two governing factors\n",
    "# affecting their ability to solve questions correctly\n",
    "\n",
    "data_binom1 = stats.binom.rvs(n=n1,p=p1,size=10000)\n",
    "data_binom2 = stats.binom.rvs(n=n2,p=p2,size=10000)\n",
    "\n",
    "# Binomial random variables of call center employees\n",
    "\n",
    "# Plot and save the results as a histogram\n",
    "fig, ax = plt.subplots(figsize=(14,7))\n",
    "ax = sns.distplot(data_binom1,\n",
    "                  kde=False,\n",
    "                  color='skyblue',\n",
    "                  label='Gaurav',\n",
    "                 hist_kws={\"linewidth\": 15,'alpha':1})\n",
    "ax = sns.distplot(data_binom2,\n",
    "                  kde=False,\n",
    "                  color='green',\n",
    "                   label='Barakha',\n",
    "                  hist_kws={\"linewidth\": 15,'alpha':1})\n",
    "ax.set_xlabel(\"Binomial distribution\",fontsize=16)\n",
    "ax.set_ylabel(\"Frequency\",fontsize=16)\n",
    "plt.legend()"
   ]
  },
  {
   "cell_type": "markdown",
   "metadata": {},
   "source": [
    "# Problem Statement 7:\n",
    "Customers arrive at a rate of 72 per hour to my shop. What is the probability of 𝑘\n",
    "customers arriving in 4 minutes? a) 5 customers, b) not more than 3 customers, c)\n",
    "more than 3 customers. Give a pictorial representation of the same to validate your\n",
    "answer."
   ]
  },
  {
   "cell_type": "code",
   "execution_count": 12,
   "metadata": {},
   "outputs": [
    {
     "name": "stdout",
     "output_type": "stream",
     "text": [
      "0.03950278583529614\n",
      "0.29422991649656405\n",
      "0.705770083503436\n"
     ]
    },
    {
     "data": {
      "text/plain": [
       "[Text(0, 0.5, 'Frequency'), Text(0.5, 0, 'Poisson')]"
      ]
     },
     "execution_count": 12,
     "metadata": {},
     "output_type": "execute_result"
    },
    {
     "data": {
      "image/png": "[encoded data removed]",
      "text/plain": [
       "<Figure size 432x288 with 1 Axes>"
      ]
     },
     "metadata": {
      "needs_background": "light"
     },
     "output_type": "display_data"
    }
   ],
   "source": [
    "from scipy.stats import poisson\n",
    "import seaborn as sb\n",
    "\n",
    "mu=72/60\n",
    "\n",
    "# Probability of 5 customers arriving in 4 mins\n",
    "print(poisson.pmf(1,mu*4))\n",
    "\n",
    "# Probability <=3 customers arriving in 4 mins\n",
    "result2=poisson.pmf(0,mu*4) + poisson.pmf(1,mu*4) + poisson.pmf(2,mu*4) + poisson.pmf(3,mu*4)\n",
    "print(result2)\n",
    "\n",
    "#Probability of > 3 customers = 1 - P(X <=3)\n",
    "print(1-result2)\n",
    "\n",
    "data_binom = poisson.rvs(mu=mu*4, size=10000)\n",
    "ax = sb.distplot(data_binom,\n",
    "                  kde=False,\n",
    "                  color='green',\n",
    "                  hist_kws={\"linewidth\": 25,'alpha':1})\n",
    "ax.set(xlabel='Poisson', ylabel='Frequency')"
   ]
  },
  {
   "cell_type": "markdown",
   "metadata": {},
   "source": [
    "# Problem Statement 8:\n",
    "\n",
    "I work as a data analyst in Aeon Learning Pvt. Ltd. After analyzing data, I make\n",
    "reports, where I have the efficiency of entering 77 words per minute with 6 errors per\n",
    "hour. \n",
    "\n",
    "What is the probability that I will commit 2 errors in a 455-word financial report?\n",
    "What happens when the no. of words increases/decreases (in case of 1000 words,\n",
    "255 words)?\n",
    "\n",
    "How is the 𝜆 affected?\n",
    "\n",
    "How does it influence the PMF?\n",
    "\n",
    "Give a pictorial representation of the same to validate your answer."
   ]
  },
  {
   "cell_type": "code",
   "execution_count": 40,
   "metadata": {},
   "outputs": [
    {
     "name": "stdout",
     "output_type": "stream",
     "text": [
      "0.09669027375144444\n"
     ]
    },
    {
     "data": {
      "text/plain": [
       "[Text(0, 0.5, 'Frequency'), Text(0.5, 0, 'Poisson')]"
      ]
     },
     "execution_count": 40,
     "metadata": {},
     "output_type": "execute_result"
    },
    {
     "data": {
      "image/png": "[encoded data removed]",
      "text/plain": [
       "<Figure size 432x288 with 1 Axes>"
      ]
     },
     "metadata": {
      "needs_background": "light"
     },
     "output_type": "display_data"
    }
   ],
   "source": [
    "from scipy.stats import poisson\n",
    "import seaborn as sb\n",
    "\n",
    "# Rate of error\n",
    "errorpermin = 6/60\n",
    "\n",
    "#Given words in a min\n",
    "wordspermin = 77\n",
    "\n",
    "#Number of mins to enter 455 words\n",
    "numofwords = 455\n",
    "\n",
    "w1 = 455\n",
    "m = w1/wordspermin\n",
    "mu = errorpermin * m\n",
    "# Probability of 2 errors in m mins\n",
    "print(poisson.pmf(2,mu))\n",
    "data_binom = poisson.rvs(mu=mu, size=10000)\n",
    "ax = sb.distplot(data_binom,\n",
    "                  kde=False,\n",
    "                  color='green',\n",
    "                  hist_kws={\"linewidth\": 25,'alpha':1})\n",
    "ax.set(xlabel='Poisson', ylabel='Frequency')"
   ]
  },
  {
   "cell_type": "code",
   "execution_count": 41,
   "metadata": {},
   "outputs": [
    {
     "name": "stdout",
     "output_type": "stream",
     "text": [
      "0.23012815007300153\n"
     ]
    },
    {
     "data": {
      "text/plain": [
       "[Text(0, 0.5, 'Frequency'), Text(0.5, 0, 'Poisson')]"
      ]
     },
     "execution_count": 41,
     "metadata": {},
     "output_type": "execute_result"
    },
    {
     "data": {
      "image/png": "[encoded data removed]",
      "text/plain": [
       "<Figure size 432x288 with 1 Axes>"
      ]
     },
     "metadata": {
      "needs_background": "light"
     },
     "output_type": "display_data"
    }
   ],
   "source": [
    "# 1000 words -> prob increases as number of words increases\n",
    "w2 = 1000\n",
    "m = w2/wordspermin\n",
    "mu = errorpermin * m\n",
    "# Probability of 2 errors in m mins\n",
    "print(poisson.pmf(2,mu))\n",
    "data_binom = poisson.rvs(mu=mu, size=10000)\n",
    "ax = sb.distplot(data_binom,\n",
    "                  kde=False,\n",
    "                  color='green',\n",
    "                  hist_kws={\"linewidth\": 25,'alpha':1})\n",
    "ax.set(xlabel='Poisson', ylabel='Frequency')"
   ]
  },
  {
   "cell_type": "code",
   "execution_count": 42,
   "metadata": {},
   "outputs": [
    {
     "name": "stdout",
     "output_type": "stream",
     "text": [
      "0.039377135392854125\n"
     ]
    },
    {
     "data": {
      "text/plain": [
       "[Text(0, 0.5, 'Frequency'), Text(0.5, 0, 'Poisson')]"
      ]
     },
     "execution_count": 42,
     "metadata": {},
     "output_type": "execute_result"
    },
    {
     "data": {
      "image/png": "[encoded data removed]",
      "text/plain": [
       "<Figure size 432x288 with 1 Axes>"
      ]
     },
     "metadata": {
      "needs_background": "light"
     },
     "output_type": "display_data"
    }
   ],
   "source": [
    "# 255 words -> prob decreases as number of words decreases\n",
    "w2 = 255\n",
    "m = w2/wordspermin\n",
    "mu = errorpermin * m\n",
    "# Probability of 2 errors in m mins\n",
    "print(poisson.pmf(2,mu))\n",
    "data_binom = poisson.rvs(mu=mu, size=10000)\n",
    "ax = sb.distplot(data_binom,\n",
    "                  kde=False,\n",
    "                  color='green',\n",
    "                  hist_kws={\"linewidth\": 25,'alpha':1})\n",
    "ax.set(xlabel='Poisson', ylabel='Frequency')"
   ]
  },
  {
   "cell_type": "code",
   "execution_count": null,
   "metadata": {},
   "outputs": [],
   "source": []
  },
  {
   "cell_type": "markdown",
   "metadata": {},
   "source": [
    "# Problem Statement 9:\n",
    "\n",
    "Let the continuous random variable D denote the diameter of the hole drilled in an\n",
    "aluminum sheet. The target diameter to be achieved is 12.5mm. Random\n",
    "disturbances in the process often result in inaccuracy.\n",
    "\n",
    "Historical data shows that the distribution of D can be modelled by the \n",
    "PDF (𝑑) =20𝑒−20(𝑑−12.5), 𝑑 ≥ 12.5. \n",
    "If a part with diameter > 12.6 mm needs to be scrapped,\n",
    "what is the proportion of those parts? \n",
    "What is the CDF when the diameter is of 11 mm? \n",
    "What is your conclusion regarding the proportion of scraps?"
   ]
  },
  {
   "cell_type": "code",
   "execution_count": 16,
   "metadata": {},
   "outputs": [
    {
     "name": "stdout",
     "output_type": "stream",
     "text": [
      "Proportion of parts scraped where d > 12.6mm:  0.13533528323661398\n",
      "Proportion of parts scraped where 12.5 < d < 12.6mm:  0.8646647167633718\n",
      "Total proportion of parts 0.9999999999999858\n"
     ]
    }
   ],
   "source": [
    "import math\n",
    "from scipy.integrate import quad\n",
    "\n",
    "def integrand(d):\n",
    "    return 20*math.exp(-20*(d-12.5))\n",
    "\n",
    "# If a part d >12.6 mm needs to be scraped, proportion of those parts:\n",
    "result1 = quad(integrand, 12.6, np.inf)[0]\n",
    "\n",
    "print(\"Proportion of parts scraped where d > 12.6mm: \", result1)\n",
    "\n",
    "# What is the CDF when the diameter is of 11 mm? \n",
    "# It is 0 for all x < 12.5 mm\n",
    "# P(X<=11) = 0\n",
    "\n",
    "# What is your conclusion regarding the proportion of scraps?\n",
    "# Proportion of scraps between 12.5 and 12.6\n",
    "result2 = quad(integrand, 12.5, 12.6)[0]\n",
    "# OR\n",
    "# 1 - result1\n",
    "\n",
    "print(\"Proportion of parts scraped where 12.5 < d < 12.6mm: \", result2)\n",
    "\n",
    "# Total Proportion of scraps has to be equal to 1. \n",
    "print(\"Total proportion of parts\" , result1+result2)\n"
   ]
  },
  {
   "cell_type": "markdown",
   "metadata": {},
   "source": [
    "# Problem Statement 10:\n",
    "    \n",
    "Please compute the following:\n",
    "\n",
    "a) P(Z > 1.26), . P(Z < −0.86), P(Z > −1.37), P(−1.25 < Z < 0.37), . P(Z ≤ −4.6)\n",
    "\n",
    "b) Find the value 𝑧 such that 𝑃(𝑍 > 𝑧) = 0.05\n",
    "\n",
    "c) Find the value of 𝑧 such that 𝑃(−𝑧 < 𝑍 < 𝑧) = 0.99"
   ]
  },
  {
   "cell_type": "code",
   "execution_count": 17,
   "metadata": {},
   "outputs": [
    {
     "name": "stdout",
     "output_type": "stream",
     "text": [
      "0.10383468112130045\n"
     ]
    }
   ],
   "source": [
    "import scipy.stats as stats\n",
    "#a)\n",
    "# P(Z>1.26)\n",
    "print(1-stats.norm.cdf(1.26))"
   ]
  },
  {
   "cell_type": "code",
   "execution_count": 18,
   "metadata": {},
   "outputs": [
    {
     "name": "stdout",
     "output_type": "stream",
     "text": [
      "0.1948945212518084\n"
     ]
    }
   ],
   "source": [
    "# P (Z<-0.86)\n",
    "print(1-stats.norm.cdf(0.86)) \n",
    "# OR\n",
    "# print(stats.norm.cdf(-0.86)) "
   ]
  },
  {
   "cell_type": "code",
   "execution_count": 19,
   "metadata": {},
   "outputs": [
    {
     "name": "stdout",
     "output_type": "stream",
     "text": [
      "0.914656549178033\n"
     ]
    }
   ],
   "source": [
    "# P(Z>-1.37)\n",
    "print(1-stats.norm.cdf(-1.37))"
   ]
  },
  {
   "cell_type": "code",
   "execution_count": 20,
   "metadata": {},
   "outputs": [
    {
     "name": "stdout",
     "output_type": "stream",
     "text": [
      "0.5386589811336914\n"
     ]
    }
   ],
   "source": [
    "# P(−1.25 < Z < 0.37)\n",
    "b = stats.norm.cdf(0.37)\n",
    "a = stats.norm.cdf(-1.25)\n",
    "print(b-a)"
   ]
  },
  {
   "cell_type": "code",
   "execution_count": 21,
   "metadata": {},
   "outputs": [
    {
     "name": "stdout",
     "output_type": "stream",
     "text": [
      "2.1124547025028537e-06\n"
     ]
    }
   ],
   "source": [
    "# P(Z <=-4.6)\n",
    "print(stats.norm.cdf(-4.6))"
   ]
  },
  {
   "cell_type": "code",
   "execution_count": 22,
   "metadata": {},
   "outputs": [],
   "source": [
    "# b) Find the value 𝑧 such that 𝑃(𝑍 > 𝑧) = 0.05"
   ]
  },
  {
   "cell_type": "code",
   "execution_count": 23,
   "metadata": {},
   "outputs": [
    {
     "name": "stdout",
     "output_type": "stream",
     "text": [
      "1.6448536269514722\n"
     ]
    }
   ],
   "source": [
    "print(stats.norm.ppf(1-0.05))"
   ]
  },
  {
   "cell_type": "code",
   "execution_count": 24,
   "metadata": {},
   "outputs": [
    {
     "name": "stdout",
     "output_type": "stream",
     "text": [
      "-2.575829303548901\n"
     ]
    }
   ],
   "source": [
    "# c) Find the value of 𝑧 such that 𝑃(−𝑧 < 𝑍 < 𝑧) = 0.99\n",
    "# P (Z < z) - P (Z < -z) = 0.99\n",
    "# 1-2P( Z < -z) = 0.99\n",
    "# P (Z < -z) = 0.005\n",
    "\n",
    "print(stats.norm.ppf(0.005))\n",
    "\n",
    "# z = 2.575"
   ]
  },
  {
   "cell_type": "markdown",
   "metadata": {},
   "source": [
    "# Problem Statement 11:\n",
    "\n",
    "The current flow in a copper wire follow a normal distribution with a mean of 10 𝑚A\n",
    "and a variance of 4 (𝑚𝐴)2.\n",
    "What is the probability that a current measurement will exceed 13 𝑚𝐴? What is the\n",
    "probability that a current measurement is between 9 and 11mA? Determine the\n",
    "current measurement which has a probability of 0.98."
   ]
  },
  {
   "cell_type": "code",
   "execution_count": 25,
   "metadata": {},
   "outputs": [
    {
     "name": "stdout",
     "output_type": "stream",
     "text": [
      " Prob that current measurement will exceed 13 mA 0.22662735237686826\n"
     ]
    }
   ],
   "source": [
    "# P(y > 13) = 1 - P(y <=13)\n",
    "# P(y > 13) = 1 - P ( y - 10 /4 <= 13-10/4 )\n",
    "# P(y > 13) = 1 - P (Z < = 0.75)\n",
    "\n",
    "prob_z = stats.norm.cdf(0.75)\n",
    "\n",
    "prob_y = 1 - prob_z\n",
    "print(\" Prob that current measurement will exceed 13 mA\", prob_y)"
   ]
  },
  {
   "cell_type": "code",
   "execution_count": 26,
   "metadata": {},
   "outputs": [
    {
     "name": "stdout",
     "output_type": "stream",
     "text": [
      " Prob that current measurement will be between 9 and 11 mA 0.1974126513658474\n"
     ]
    }
   ],
   "source": [
    "# P(9 < y < 11) = P(-0.25 < Z < 0.25)\n",
    "# P(9 < y < 11) = 2P(0.25) - 1\n",
    "\n",
    "prob = stats.norm.cdf(0.25)\n",
    "\n",
    "prob_y = 2*prob-1\n",
    "print(\" Prob that current measurement will be between 9 and 11 mA\", prob_y)\n"
   ]
  },
  {
   "cell_type": "code",
   "execution_count": 27,
   "metadata": {},
   "outputs": [
    {
     "name": "stdout",
     "output_type": "stream",
     "text": [
      " Current measurement with prob 0.98: 18.214995642527292 mA\n"
     ]
    }
   ],
   "source": [
    "# Determine the current measurement which has a probability of 0.98\n",
    "# P( Z < (z - 10) / 4) = 0.98\n",
    "prob = stats.norm.ppf(0.98)\n",
    "\n",
    "z = prob * 4 + 10\n",
    "\n",
    "print(\" Current measurement with prob 0.98:\", z, \"mA\")\n"
   ]
  },
  {
   "cell_type": "markdown",
   "metadata": {},
   "source": [
    "# Problem Statement 12:\n",
    "\n",
    "The shaft in a piston has its diameter normally distributed with a mean of 0.2508 inch\n",
    "and a standard deviation of 0.0005 inch. \n",
    "\n",
    "The specifications of the shaft are 0.2500 ∓ 0.0015 inch.\n",
    "\n",
    "What proportion of shafts are in sync with the specifications?\n",
    "\n",
    "If the process is centered so that the mean is equal to the target value of 0.2500, what\n",
    "proportion of shafts conform to the new specifications?\n",
    "\n",
    "What is your conclusion from\n",
    "this experiment?"
   ]
  },
  {
   "cell_type": "code",
   "execution_count": 28,
   "metadata": {},
   "outputs": [
    {
     "name": "stdout",
     "output_type": "stream",
     "text": [
      "-4.6000000000000485\n",
      "1.3999999999999568\n",
      "Proportion of shafts in sync with the specifications :  0.91924122831152\n"
     ]
    }
   ],
   "source": [
    "mu = 0.2508\n",
    "sd = 0.0005\n",
    "\n",
    "lower = 0.2500-0.0015\n",
    "upper = 0.2500+0.0015\n",
    "\n",
    "lower_z = (lower - mu) /sd\n",
    "upper_z = (upper - mu) / sd\n",
    "\n",
    "print(lower_z)\n",
    "print(upper_z)\n",
    "\n",
    "# P(lower<X<upper )=P(lower-mu/sd<Z<upper-mu/sd)\n",
    "# = P(lower_z < Z < upper_z)\n",
    "# = P(upper_z) - P(lower_z)\n",
    "\n",
    "prop_sync = stats.norm.cdf(upper_z) - stats.norm.cdf(lower_z)\n",
    "print(\"Proportion of shafts in sync with the specifications : \", prop_sync)"
   ]
  },
  {
   "cell_type": "code",
   "execution_count": 29,
   "metadata": {},
   "outputs": [
    {
     "name": "stdout",
     "output_type": "stream",
     "text": [
      "-3.0000000000000027\n",
      "3.0000000000000027\n",
      "New Proportion of shafts :  0.9973002039367398\n"
     ]
    }
   ],
   "source": [
    "# If the process is centered so that the mean is equal to the target value of 0.2500, what proportion of shafts conform to the new specifications?\n",
    "mu = 0.2500\n",
    "\n",
    "lower_z = (lower - mu) /sd\n",
    "upper_z = (upper - mu) / sd\n",
    "\n",
    "print(lower_z)\n",
    "print(upper_z)\n",
    "\n",
    "# P(lower<X<upper )=P(lower-mu/sd<Z<upper-mu/sd)\n",
    "# = P(lower_z < Z < upper_z)\n",
    "# = P(upper_z) - P(lower_z)\n",
    "\n",
    "prop_new = stats.norm.cdf(upper_z) - stats.norm.cdf(lower_z)\n",
    "print(\"New Proportion of shafts : \", prop_new)"
   ]
  },
  {
   "cell_type": "code",
   "execution_count": 30,
   "metadata": {},
   "outputs": [],
   "source": [
    "# Conclusion\n",
    "# If the process is centered i.e. process mean = target\n",
    "# There is an increase from 91.92% to 99.73 %.\n"
   ]
  }
 ],
 "metadata": {
  "kernelspec": {
   "display_name": "Python 3",
   "language": "python",
   "name": "python3"
  },
  "language_info": {
   "codemirror_mode": {
    "name": "ipython",
    "version": 3
   },
   "file_extension": ".py",
   "mimetype": "text/x-python",
   "name": "python",
   "nbconvert_exporter": "python",
   "pygments_lexer": "ipython3",
   "version": "3.7.6"
  }
 },
 "nbformat": 4,
 "nbformat_minor": 4
}
