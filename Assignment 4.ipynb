{
 "cells": [
  {
   "cell_type": "markdown",
   "metadata": {},
   "source": [
    "1.1 Write a Python Program(with class concepts) to find the area of the triangle using the below\n",
    "formula.\n",
    "\n",
    "area = (s*(s-a)*(s-b)*(s-c)) ** 0.5\n",
    "\n",
    "Function to take the length of the sides of triangle from user should be defined in the parent\n",
    "class and function to calculate the area should be defined in subclass."
   ]
  },
  {
   "cell_type": "code",
   "execution_count": 13,
   "metadata": {},
   "outputs": [
    {
     "name": "stdout",
     "output_type": "stream",
     "text": [
      "Input side a=10\n",
      "Input side b=9\n",
      "Input side c=11\n",
      "area : 42.42640687119285\n",
      "True\n",
      "True\n"
     ]
    }
   ],
   "source": [
    "class Polygon:\n",
    "    def __init__(self,a,b,c):\n",
    "        self.a = float(a)\n",
    "        self.b = float(b)\n",
    "        self.c = float(c)\n",
    "\n",
    "class Triangle(Polygon):\n",
    "    def __init__(self,*args):\n",
    "        super().__init__(*args)\n",
    "\n",
    "    def area(self):\n",
    "        s = (a + b + c) / 2\n",
    "        return (s*(s-a)*(s-b)*(s-c)) ** 0.5        \n",
    "\n",
    "a= float(input(\"Input side a=\"))\n",
    "b= float(input(\"Input side b=\"))\n",
    "c= float(input(\"Input side c=\"))   \n",
    "t = Triangle(a,b,c)\n",
    "print(f\"area : {t.area()}\")\n",
    "print(isinstance(t, Triangle))\n",
    "print(isinstance(t, Polygon))"
   ]
  },
  {
   "cell_type": "markdown",
   "metadata": {},
   "source": [
    "1.2 Write a function filter_long_words() that takes a list of words and an integer n and returns\n",
    "the list of words that are longer than n."
   ]
  },
  {
   "cell_type": "code",
   "execution_count": 14,
   "metadata": {},
   "outputs": [
    {
     "name": "stdout",
     "output_type": "stream",
     "text": [
      "Please input comma separated list of words: a,sdt,hjyutr\n",
      "Please enter size of words to check, i.e. n: 2\n",
      "Result after filtering :\n",
      "['sdt', 'hjyutr']\n"
     ]
    }
   ],
   "source": [
    "def filter_long_words(word_list,n):\n",
    "    '''Returns the list of words that are longer than n'''\n",
    "    return [word for word in word_list if len(word) > n]\n",
    "\n",
    "#Test\n",
    "word_list = input(\"Please input comma separated list of words: \").split(',')\n",
    "num = int(input(\"Please enter size of words to check, i.e. n: \"))\n",
    "print(\"Result after filtering :\")\n",
    "print([str for str in filter_long_words(word_list,num)])\n"
   ]
  },
  {
   "cell_type": "markdown",
   "metadata": {},
   "source": [
    "2.1 Write a Python program using function concept that maps list of words into a list of integers\n",
    "representing the lengths of the corresponding words.\n",
    "Hint: If a list [ ab,cde,erty] is passed on to the python function output should come as [2,3,4]\n",
    "Here 2,3 and 4 are the lengths of the words in the list."
   ]
  },
  {
   "cell_type": "code",
   "execution_count": 12,
   "metadata": {},
   "outputs": [
    {
     "name": "stdout",
     "output_type": "stream",
     "text": [
      "2,3,4,7,\b\n"
     ]
    }
   ],
   "source": [
    "def map_words_to_int(l):\n",
    "    return [len(x) for x in l]\n",
    "\n",
    "#Test\n",
    "result = map_words_to_int([\"aa\",\"bbb\",\"cccc\",\"fftthtr\"])\n",
    "for r in result:\n",
    "    print(r,end=\",\")\n",
    "print('\\b')\n"
   ]
  },
  {
   "cell_type": "markdown",
   "metadata": {},
   "source": [
    "2.2 Write a Python function which takes a character (i.e. a string of length 1) and returns True if\n",
    "it is a vowel, False otherwise."
   ]
  },
  {
   "cell_type": "code",
   "execution_count": 19,
   "metadata": {},
   "outputs": [
    {
     "name": "stdout",
     "output_type": "stream",
     "text": [
      "Result of 'a' in the funciton isVowel :True\n",
      "Result of '&' in the funciton isVowel :False\n"
     ]
    }
   ],
   "source": [
    "def isVowel(char):\n",
    "    return char.lower() in 'aeiou'\n",
    "\n",
    "#Test\n",
    "print(\"Result of 'a' in the funciton isVowel :\" + str(isVowel('a')))\n",
    "print(\"Result of '&' in the funciton isVowel :\" + str(isVowel('&')))"
   ]
  },
  {
   "cell_type": "code",
   "execution_count": null,
   "metadata": {},
   "outputs": [],
   "source": []
  }
 ],
 "metadata": {
  "kernelspec": {
   "display_name": "Python 3",
   "language": "python",
   "name": "python3"
  },
  "language_info": {
   "codemirror_mode": {
    "name": "ipython",
    "version": 3
   },
   "file_extension": ".py",
   "mimetype": "text/x-python",
   "name": "python",
   "nbconvert_exporter": "python",
   "pygments_lexer": "ipython3",
   "version": "3.7.5"
  }
 },
 "nbformat": 4,
 "nbformat_minor": 2
}
